{
  "nbformat": 4,
  "nbformat_minor": 0,
  "metadata": {
    "colab": {
      "provenance": []
    },
    "kernelspec": {
      "name": "python3",
      "display_name": "Python 3"
    },
    "language_info": {
      "name": "python"
    }
  },
  "cells": [
    {
      "cell_type": "code",
      "execution_count": 2,
      "metadata": {
        "id": "fgMCeXuNs6R4"
      },
      "outputs": [],
      "source": [
        "import cv2\n",
        "import numpy as np\n",
        "import matplotlib.pyplot as plt\n"
      ]
    },
    {
      "cell_type": "markdown",
      "source": [
        "\n",
        "1. Moving Average Filter:\n",
        "   - Mengurangi noise dengan cara merata-ratakan piksel di sekitar\n",
        "   - Efektif untuk smoothing gambar sederhana\n",
        "   - Dapat menghilangkan detail halus gambar"
      ],
      "metadata": {
        "id": "FN08e_Q0yX8h"
      }
    },
    {
      "cell_type": "code",
      "source": [
        "\n",
        "def moving_average_filter(image, kernel_size=5):\n",
        "    \"\"\"\n",
        "    Menerapkan filter moving average untuk smoothing gambar\n",
        "\n",
        "    Parameters:\n",
        "    - image: Gambar input\n",
        "    - kernel_size: Ukuran kernel untuk filter (default 5x5)\n",
        "\n",
        "    Returns:\n",
        "    - Gambar setelah difilter moving average\n",
        "    \"\"\"\n",
        "    # Membuat kernel moving average\n",
        "    kernel = np.ones((kernel_size, kernel_size), np.float32) / (kernel_size**2)\n",
        "\n",
        "    # Aplikasikan filter konvolusi\n",
        "    smoothed = cv2.filter2D(image, -1, kernel)\n",
        "\n",
        "    return smoothed"
      ],
      "metadata": {
        "id": "bq1XboBEtwH_"
      },
      "execution_count": 3,
      "outputs": []
    },
    {
      "cell_type": "markdown",
      "source": [
        "2. SIFT Feature Detection:\n",
        "   - Mendeteksi titik-titik kunci yang invariant terhadap skala dan rotasi\n",
        "   - Berguna untuk pencocokan fitur antar gambar\n",
        "   - Menghasilkan deskriptor unik untuk setiap keypoint"
      ],
      "metadata": {
        "id": "FVaeakBAybZr"
      }
    },
    {
      "cell_type": "code",
      "source": [
        "def sift_feature_detection(image):\n",
        "    \"\"\"\n",
        "    Deteksi fitur menggunakan algoritma SIFT (Scale Invariant Feature Transform)\n",
        "\n",
        "    Parameters:\n",
        "    - image: Gambar input grayscale\n",
        "\n",
        "    Returns:\n",
        "    - Gambar dengan fitur SIFT yang terdeteksi\n",
        "    \"\"\"\n",
        "    # Inisialisasi detector SIFT\n",
        "    sift = cv2.SIFT_create()\n",
        "\n",
        "    # Temukan keypoints dan deskriptor\n",
        "    keypoints, descriptors = sift.detectAndCompute(image, None)\n",
        "\n",
        "    # Gambar keypoints pada gambar\n",
        "    image_with_keypoints = cv2.drawKeypoints(image, keypoints, None,\n",
        "                                             flags=cv2.DRAW_MATCHES_FLAGS_DRAW_RICH_KEYPOINTS)\n",
        "\n",
        "    return image_with_keypoints, keypoints, descriptors"
      ],
      "metadata": {
        "id": "EEzVtjW3tz_t"
      },
      "execution_count": 4,
      "outputs": []
    },
    {
      "cell_type": "markdown",
      "source": [
        "3. Gaussian Smoothing:\n",
        "   - Lebih canggih dibanding moving average\n",
        "   - Memberikan bobot lebih pada piksel pusat\n",
        "   - Mempertahankan lebih banyak detail gambar\n",
        "   - Berguna untuk pre-processing sebelum deteksi fitur\n",
        "   "
      ],
      "metadata": {
        "id": "QR55sC-eydaz"
      }
    },
    {
      "cell_type": "code",
      "source": [
        "def gaussian_smoothing(image, kernel_size=(5,5), sigma=0):\n",
        "    \"\"\"\n",
        "    Melakukan Gaussian smoothing pada gambar\n",
        "\n",
        "    Parameters:\n",
        "    - image: Gambar input\n",
        "    - kernel_size: Ukuran kernel Gaussian\n",
        "    - sigma: Standar deviasi Gaussian (0 berarti dihitung otomatis)\n",
        "\n",
        "    Returns:\n",
        "    - Gambar setelah Gaussian smoothing\n",
        "    \"\"\"\n",
        "    # Aplikasikan Gaussian blur\n",
        "    smoothed = cv2.GaussianBlur(image, kernel_size, sigma)\n",
        "\n",
        "    return smoothed"
      ],
      "metadata": {
        "id": "GDGHF2-QyDoa"
      },
      "execution_count": 5,
      "outputs": []
    },
    {
      "cell_type": "markdown",
      "source": [
        "4. Sobel Edge Detection:\n",
        "   - Mendeteksi perubahan intensitas tajam di gambar\n",
        "   - Menghasilkan gradient horizontal dan vertikal\n",
        "   - Membantu mengidentifikasi tepi dan struktur gambar"
      ],
      "metadata": {
        "id": "fluXxiYiygIW"
      }
    },
    {
      "cell_type": "code",
      "source": [
        "def sobel_edge_detection(image):\n",
        "    \"\"\"\n",
        "    Deteksi tepi menggunakan operator Sobel\n",
        "\n",
        "    Parameters:\n",
        "    - image: Gambar input grayscale\n",
        "\n",
        "    Returns:\n",
        "    - Gradient x, gradient y, dan magnitude tepi\n",
        "    \"\"\"\n",
        "    # Hitung gradien x dan y\n",
        "    grad_x = cv2.Sobel(image, cv2.CV_64F, 1, 0, ksize=3)\n",
        "    grad_y = cv2.Sobel(image, cv2.CV_64F, 0, 1, ksize=3)\n",
        "\n",
        "    # Hitung magnitude gradien\n",
        "    magnitude = np.sqrt(grad_x**2 + grad_y**2)\n",
        "\n",
        "    # Normalisasi untuk visualisasi\n",
        "    magnitude = cv2.normalize(magnitude, None, 0, 255, cv2.NORM_MINMAX, dtype=cv2.CV_8U)\n",
        "\n",
        "    return grad_x, grad_y, magnitude"
      ],
      "metadata": {
        "id": "cA0Y7fQjyGoX"
      },
      "execution_count": 6,
      "outputs": []
    },
    {
      "cell_type": "markdown",
      "source": [
        "\n",
        "5. HOG Feature Descriptor:\n",
        "   - Menangkap informasi gradien dan orientasi\n",
        "   - Sangat efektif untuk deteksi objek\n",
        "   - Umum digunakan dalam computer vision, terutama deteksi manusia"
      ],
      "metadata": {
        "id": "0ljolzTAyxav"
      }
    },
    {
      "cell_type": "code",
      "source": [
        "def hog_feature_descriptor(image, cell_size=(8,8), block_size=(2,2), nbins=9):\n",
        "    \"\"\"\n",
        "    Ekstraksi fitur Histogram of Oriented Gradients (HOG)\n",
        "\n",
        "    Parameters:\n",
        "    - image: Gambar input\n",
        "    - cell_size: Ukuran sel untuk HOG (dalam piksel)\n",
        "    - block_size: Ukuran blok (dalam jumlah sel)\n",
        "    - nbins: Jumlah bin histogram\n",
        "\n",
        "    Returns:\n",
        "    - Deskriptor HOG dan visualisasi\n",
        "    \"\"\"\n",
        "    # Pastikan gambar dalam skala keabuan\n",
        "    if len(image.shape) > 2:\n",
        "        gray = cv2.cvtColor(image, cv2.COLOR_BGR2GRAY)\n",
        "    else:\n",
        "        gray = image\n",
        "\n",
        "    # Hitung HOG\n",
        "    win_size = (image.shape[1] // cell_size[0] * cell_size[0],\n",
        "                image.shape[0] // cell_size[1] * cell_size[1])\n",
        "\n",
        "    # Block stride biasanya sama dengan cell size\n",
        "    block_stride = (cell_size[0], cell_size[1])\n",
        "\n",
        "    # Konversi block_size dari jumlah sel ke piksel\n",
        "    block_size_pixels = (block_size[0] * cell_size[0],\n",
        "                        block_size[1] * cell_size[1])\n",
        "\n",
        "    hog = cv2.HOGDescriptor(win_size,\n",
        "                           block_size_pixels,  # Ukuran blok dalam piksel\n",
        "                           block_stride,\n",
        "                           cell_size,\n",
        "                           nbins)\n",
        "\n",
        "    # Hitung descriptor\n",
        "    hog_features = hog.compute(gray)\n",
        "\n",
        "    return hog_features"
      ],
      "metadata": {
        "id": "mPKP899SyJQA"
      },
      "execution_count": 7,
      "outputs": []
    },
    {
      "cell_type": "code",
      "source": [
        "def visualize_results(original, moving_avg, gaussian, sobel_mag, sift_img, hog_features):\n",
        "    \"\"\"\n",
        "    Visualisasi hasil pemrosesan gambar\n",
        "\n",
        "    Parameters:\n",
        "    - Berbagai hasil pemrosesan gambar\n",
        "    \"\"\"\n",
        "    plt.figure(figsize=(20,15))\n",
        "\n",
        "    # Plot original\n",
        "    plt.subplot(2,3,1)\n",
        "    plt.title('Gambar Asli')\n",
        "    plt.imshow(cv2.cvtColor(original, cv2.COLOR_BGR2RGB))\n",
        "    plt.axis('off')\n",
        "\n",
        "    # Plot Moving Average\n",
        "    plt.subplot(2,3,2)\n",
        "    plt.title('Moving Average Filter')\n",
        "    plt.imshow(cv2.cvtColor(moving_avg, cv2.COLOR_BGR2RGB))\n",
        "    plt.axis('off')\n",
        "\n",
        "    # Plot Gaussian Smoothing\n",
        "    plt.subplot(2,3,3)\n",
        "    plt.title('Gaussian Smoothing')\n",
        "    plt.imshow(cv2.cvtColor(gaussian, cv2.COLOR_BGR2RGB))\n",
        "    plt.axis('off')\n",
        "\n",
        "    # Plot Sobel Edge Detection\n",
        "    plt.subplot(2,3,4)\n",
        "    plt.title('Sobel Edge Detection')\n",
        "    plt.imshow(sobel_mag, cmap='gray')\n",
        "    plt.axis('off')\n",
        "\n",
        "    # Plot SIFT Keypoints\n",
        "    plt.subplot(2,3,5)\n",
        "    plt.title('SIFT Feature Detection')\n",
        "    plt.imshow(cv2.cvtColor(sift_img, cv2.COLOR_BGR2RGB))\n",
        "    plt.axis('off')\n",
        "\n",
        "    # Plot HOG Histogram\n",
        "    plt.subplot(2,3,6)\n",
        "    plt.title('HOG Feature Descriptor')\n",
        "    plt.bar(range(len(hog_features)), hog_features.flatten())\n",
        "    plt.xlabel('HOG Feature Index')\n",
        "    plt.ylabel('Feature Magnitude')\n",
        "\n",
        "    plt.tight_layout()\n",
        "    plt.show()\n"
      ],
      "metadata": {
        "id": "ad7Z5CJqyNX4"
      },
      "execution_count": 8,
      "outputs": []
    },
    {
      "cell_type": "code",
      "source": [
        "def main():\n",
        "    # Baca gambar\n",
        "    image = cv2.imread('/content/sample_data/Screenshot (1361).jpg')\n",
        "\n",
        "    if image is None:\n",
        "        print(\"Gagal membaca gambar. Pastikan file 'sample_image.jpg' tersedia.\")\n",
        "        return\n",
        "\n",
        "    # Konversi ke grayscale untuk beberapa operasi\n",
        "    gray = cv2.cvtColor(image, cv2.COLOR_BGR2GRAY)\n",
        "\n",
        "    # Terapkan Moving Average Filter\n",
        "    moving_avg_filtered = moving_average_filter(image)\n",
        "\n",
        "    # Gaussian Smoothing\n",
        "    gaussian_smoothed = gaussian_smoothing(image)\n",
        "\n",
        "    # Deteksi Tepi Sobel\n",
        "    grad_x, grad_y, sobel_magnitude = sobel_edge_detection(gray)\n",
        "\n",
        "    # SIFT Feature Detection\n",
        "    sift_img, keypoints, descriptors = sift_feature_detection(gray)\n",
        "\n",
        "    # HOG Feature Descriptor\n",
        "    hog_features = hog_feature_descriptor(image)\n",
        "\n",
        "    # Visualisasi Hasil\n",
        "    visualize_results(\n",
        "        original=image,\n",
        "        moving_avg=moving_avg_filtered,\n",
        "        gaussian=gaussian_smoothed,\n",
        "        sobel_mag=sobel_magnitude,\n",
        "        sift_img=sift_img,\n",
        "        hog_features=hog_features\n",
        "    )"
      ],
      "metadata": {
        "id": "Sgty97AdySWX"
      },
      "execution_count": 9,
      "outputs": []
    },
    {
      "cell_type": "code",
      "source": [
        "if __name__ == \"__main__\":\n",
        "    main()"
      ],
      "metadata": {
        "id": "akhSn9qdyVjr"
      },
      "execution_count": null,
      "outputs": []
    },
    {
      "cell_type": "markdown",
      "source": [
        "permisi kak ini dari google collab-nya sepertinya ga kuat ngejalaninnya, soalnya compilenya lama banget, kemaren sampe 20 menit lebih abis itu crash sendiri, nanti di update kalau sudah bisa.\n",
        "\n"
      ],
      "metadata": {
        "id": "qy3P7yeI6wor"
      }
    }
  ]
}